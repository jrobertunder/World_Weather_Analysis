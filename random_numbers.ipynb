{
 "cells": [
  {
   "cell_type": "code",
   "execution_count": 1,
   "id": "129bb83a",
   "metadata": {},
   "outputs": [],
   "source": [
    "# Import the random module.\n",
    "import random"
   ]
  },
  {
   "cell_type": "code",
   "execution_count": 2,
   "id": "281958da",
   "metadata": {},
   "outputs": [],
   "source": [
    "x = 1\n",
    "latitudes = []\n",
    "while x < 11:\n",
    "    random_lat = random.randint(-90, 89) + random.random()\n",
    "    latitudes.append(random_lat)\n",
    "    x += 1"
   ]
  },
  {
   "cell_type": "code",
   "execution_count": 3,
   "id": "e8285332",
   "metadata": {},
   "outputs": [
    {
     "data": {
      "text/plain": [
       "[51.13249208191957,\n",
       " -59.75401851845001,\n",
       " -64.81426770134426,\n",
       " 15.738318872996068,\n",
       " 51.17837024956198,\n",
       " 74.58199769252921,\n",
       " 9.456345848638415,\n",
       " -89.96643386106022,\n",
       " 87.96896476974202,\n",
       " 4.670417130835145]"
      ]
     },
     "execution_count": 3,
     "metadata": {},
     "output_type": "execute_result"
    }
   ],
   "source": [
    "latitudes"
   ]
  },
  {
   "cell_type": "code",
   "execution_count": 4,
   "id": "1d0d5ab6",
   "metadata": {},
   "outputs": [],
   "source": [
    "# Import the NumPy module.\n",
    "import numpy as np"
   ]
  },
  {
   "cell_type": "code",
   "execution_count": 5,
   "id": "c9da4a92",
   "metadata": {},
   "outputs": [
    {
     "data": {
      "text/plain": [
       "array([-68.81908168, -46.01259091,   5.38773301,  44.70260349,\n",
       "        31.12934593,  72.43084774,  15.43562503,  21.44189683,\n",
       "       -44.83249976,  -9.79140982, -16.31163329, -26.14220415,\n",
       "         5.37416623, -33.99414694,  76.12148448,  16.48644251,\n",
       "        83.84236946, -69.936963  , -56.18539546,  52.48518366,\n",
       "        59.75224888,  66.02121195, -81.39464588,  84.79944832,\n",
       "        23.63809311,  -7.55237691,  -8.51591277, -23.15615948,\n",
       "        85.67436059, -56.31084043, -34.42788235, -86.735924  ,\n",
       "        75.43712257,  88.92050388,  -0.1064676 ,  89.72362604,\n",
       "         4.92482709,  80.86961442, -70.89487352, -29.94594734,\n",
       "       -63.93447174,  17.99545668,  79.267564  , -25.75840437,\n",
       "        32.98600042, -64.48885285, -33.34231722,  -8.24839153,\n",
       "        -6.96580629,  45.72466527])"
      ]
     },
     "execution_count": 5,
     "metadata": {},
     "output_type": "execute_result"
    }
   ],
   "source": [
    "np.random.uniform(-90.000, 90.000, size=50)"
   ]
  },
  {
   "cell_type": "code",
   "execution_count": 6,
   "id": "d6fbf891",
   "metadata": {},
   "outputs": [
    {
     "name": "stdout",
     "output_type": "stream",
     "text": [
      "13.7 µs ± 418 ns per loop (mean ± std. dev. of 7 runs, 100000 loops each)\n"
     ]
    }
   ],
   "source": [
    "# Import timeit.\n",
    "import timeit\n",
    "%timeit np.random.uniform(-90.000, 90.000, size=1500)"
   ]
  },
  {
   "cell_type": "code",
   "execution_count": 7,
   "id": "0f71b3b3",
   "metadata": {},
   "outputs": [
    {
     "name": "stdout",
     "output_type": "stream",
     "text": [
      "1.55 ms ± 106 µs per loop (mean ± std. dev. of 7 runs, 1000 loops each)\n"
     ]
    }
   ],
   "source": [
    "def latitudes(size):\n",
    "    latitudes = []\n",
    "    x = 0\n",
    "    while x < (size):\n",
    "        random_lat = random.randint(-90, 90) + random.random()\n",
    "        latitudes.append(random_lat)\n",
    "        x += 1\n",
    "    return latitudes\n",
    "# Call the function with 1500.\n",
    "%timeit latitudes(1500)"
   ]
  },
  {
   "cell_type": "code",
   "execution_count": 8,
   "id": "547c845f",
   "metadata": {},
   "outputs": [],
   "source": [
    "# Import the dependencies.  WeatherPy\n",
    "import pandas as pd\n",
    "import matplotlib.pyplot as plt\n",
    "import numpy as np"
   ]
  },
  {
   "cell_type": "code",
   "execution_count": 9,
   "id": "6900dab6",
   "metadata": {},
   "outputs": [],
   "source": [
    "# # Create a set of random latitude and longitude combinations.\n",
    "# lats = np.random.uniform(low=-90.000, high=90.000, size=1500)\n",
    "# lngs = np.random.uniform(low=-180.000, high=180.000, size=1500)\n",
    "# lat_lngs = zip(lats, lngs)\n",
    "# lat_lngs"
   ]
  },
  {
   "cell_type": "code",
   "execution_count": 10,
   "id": "12b57565",
   "metadata": {},
   "outputs": [],
   "source": [
    "# # Add the latitudes and longitudes to a list.\n",
    "# coordinates = list(lat_lngs)\n",
    "# lat_lngs"
   ]
  },
  {
   "cell_type": "code",
   "execution_count": 11,
   "id": "7016cfe8",
   "metadata": {},
   "outputs": [],
   "source": [
    "# pip install citipy"
   ]
  },
  {
   "cell_type": "code",
   "execution_count": 12,
   "id": "af590241",
   "metadata": {},
   "outputs": [],
   "source": [
    "# Use the citipy module to determine city based on latitude and longitude.\n",
    "from citipy import citipy"
   ]
  },
  {
   "cell_type": "code",
   "execution_count": 13,
   "id": "7d7d6956",
   "metadata": {},
   "outputs": [],
   "source": [
    "# Create a practice set of random latitude and longitude combinations.\n",
    "x = [25.12903645, 25.92017388, 26.62509167, -59.98969384, 37.30571269]\n",
    "y = [-67.59741259, 11.09532135, 74.84233102, -76.89176677, -61.13376282]\n",
    "coordinates = list(zip(x, y)) #Warining zip allocate one shot"
   ]
  },
  {
   "cell_type": "code",
   "execution_count": 14,
   "id": "fc6273d9",
   "metadata": {},
   "outputs": [
    {
     "name": "stdout",
     "output_type": "stream",
     "text": [
      "cockburn town tc\n",
      "gat ly\n",
      "parvatsar in\n",
      "punta arenas cl\n",
      "saint george bm\n"
     ]
    }
   ],
   "source": [
    "# Use the tuple() function to display the latitude and longitude combinations.\n",
    "for coordinate in coordinates:\n",
    "    \n",
    "    print(citipy.nearest_city(coordinate[0], coordinate[1]).city_name,\n",
    "      citipy.nearest_city(coordinate[0], coordinate[1]).country_code)"
   ]
  },
  {
   "cell_type": "code",
   "execution_count": 15,
   "id": "37ce0d13",
   "metadata": {},
   "outputs": [
    {
     "data": {
      "text/plain": [
       "5"
      ]
     },
     "execution_count": 15,
     "metadata": {},
     "output_type": "execute_result"
    }
   ],
   "source": [
    "# Create a list for holding the cities.\n",
    "cities = []\n",
    "# Identify the nearest city for each latitude and longitude combination.\n",
    "for coordinate in coordinates:\n",
    "    city = citipy.nearest_city(coordinate[0], coordinate[1]).city_name\n",
    "\n",
    "    # If the city is unique, then we will add it to the cities list.\n",
    "    if city not in cities:\n",
    "        cities.append(city)\n",
    "# Print the city count to confirm sufficient count.\n",
    "len(cities)"
   ]
  },
  {
   "cell_type": "code",
   "execution_count": null,
   "id": "22458bb9",
   "metadata": {},
   "outputs": [],
   "source": []
  }
 ],
 "metadata": {
  "kernelspec": {
   "display_name": "Python 3 (ipykernel)",
   "language": "python",
   "name": "python3"
  },
  "language_info": {
   "codemirror_mode": {
    "name": "ipython",
    "version": 3
   },
   "file_extension": ".py",
   "mimetype": "text/x-python",
   "name": "python",
   "nbconvert_exporter": "python",
   "pygments_lexer": "ipython3",
   "version": "3.9.7"
  }
 },
 "nbformat": 4,
 "nbformat_minor": 5
}
